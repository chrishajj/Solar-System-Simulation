{
 "cells": [
  {
   "cell_type": "code",
   "execution_count": 1,
   "metadata": {},
   "outputs": [],
   "source": [
    "###\n",
    "import os\n",
    "###\n",
    "import numpy as np\n",
    "### Interpolation library\n",
    "import scipy.interpolate as interpolate\n",
    "###\n",
    "import matplotlib.pylab as plt\n",
    "###\n",
    "from matplotlib.animation import FuncAnimation\n",
    "###\n",
    "from PIL import Image, ImageDraw\n",
    "import imageio.v2 as imageio"
   ]
  },
  {
   "cell_type": "code",
   "execution_count": 7,
   "metadata": {},
   "outputs": [],
   "source": [
    "# Defining all mass #in kg\n",
    "MSun= 1.989e30\n",
    "MEarth= 5.972e24\n",
    "MMoon= 7.34767309e22\n",
    "\n",
    "# Defining distance to sun #in meters\n",
    "DEarth = 151.4e9\n",
    "DMoon = 384000000\n",
    "\n",
    "# Define G\n",
    "G=6.6743e-11\n",
    "\n",
    "# Angular frequency and orbital period\n",
    "w=np.sqrt(G*MEarth*MMoon/DMoon**3)\n",
    "\n",
    "T= 2*np.pi/w"
   ]
  },
  {
   "cell_type": "code",
   "execution_count": 8,
   "metadata": {},
   "outputs": [
    {
     "data": {
      "text/plain": [
       "Text(0.5, 1.0, 'Moon Orbit')"
      ]
     },
     "execution_count": 8,
     "metadata": {},
     "output_type": "execute_result"
    },
    {
     "data": {
      "image/png": "[encoded data removed]",
      "text/plain": [
       "<Figure size 600x400 with 1 Axes>"
      ]
     },
     "metadata": {
      "needs_background": "light"
     },
     "output_type": "display_data"
    }
   ],
   "source": [
    "# Initial parameters\n",
    "# Descritize the step according to the orbital period\n",
    "\n",
    "\n",
    "runtime=5*T\n",
    "dt = 0.01*T\n",
    "n=int (runtime/dt) +1\n",
    "\n",
    "X0 = DMoon\n",
    "Vx0 = 0\n",
    "\n",
    "X = []\n",
    "Vx= []\n",
    "X.append(X0)\n",
    "Vx.append(Vx0)\n",
    "\n",
    "Y0 = 0\n",
    "Vy0 = w*DMoon\n",
    "\n",
    "Y = []\n",
    "Vy= []\n",
    "Y.append(Y0)\n",
    "Vy.append(Vy0)\n",
    "\n",
    "##################\n",
    "\n",
    "for i in range (n):\n",
    "    \n",
    "    X_nplus1 = X[-1] + dt*Vx[-1]\n",
    "    Y_nplus1 = Y[-1] + dt*Vy[-1]\n",
    "    \n",
    "    X.append(X_nplus1)\n",
    "    Y.append(Y_nplus1)\n",
    "    \n",
    "    # defining r\n",
    "    r = np.sqrt(X[-1]**2 + Y[-1]**2)\n",
    "    \n",
    "    Vx_nplus1 = Vx[-1] - dt*G*MEarth*MMoon*X[-1]/DMoon**3\n",
    "    Vy_nplus1 = Vy[-1] - dt*G*MEarth*MMoon*Y[-1]/DMoon**3\n",
    "    \n",
    "    Vx.append(Vx_nplus1)\n",
    "    Vy.append(Vy_nplus1)\n",
    "\n",
    "plt.figure (dpi=100)\n",
    "plt.plot(X, Y)\n",
    "plt.xlabel('(m)')\n",
    "plt.ylabel('(m)')\n",
    "plt.title ('Moon Orbit')"
   ]
  },
  {
   "cell_type": "code",
   "execution_count": 9,
   "metadata": {
    "scrolled": false
   },
   "outputs": [
    {
     "data": {
      "image/png": "[encoded data removed]",
      "text/plain": [
       "<Figure size 432x288 with 1 Axes>"
      ]
     },
     "metadata": {
      "needs_background": "light"
     },
     "output_type": "display_data"
    }
   ],
   "source": [
    "fig, ax= plt.subplots()\n",
    "frames=[]\n",
    "ax.set_xlim(min(X),max(X))\n",
    "ax.set_ylim(min(Y),max(Y))\n",
    "\n",
    "for i in range (len(X)):\n",
    "    ax.plot(X[:i+1], Y[:i+1], 'b-')  # Plot the data up to the current frame\n",
    "    ax.plot(X[i], Y[i], 'ro')  # Plot the current point as a red dot\n",
    "    ax.set_title('Moon orbit')\n",
    "    # Save the current frame as an image\n",
    "    filename = f\"frame_{i:00f}.png\"  # Define the filename with a three-digit frame number\n",
    "    plt.savefig(filename)\n",
    "    frames.append(imageio.imread(filename))\n",
    "\n",
    "    # Clear the plot for the next frame\n",
    "    ax.cla()\n",
    "\n",
    "# Remove the temporary image files\n",
    "for filename in os.listdir():\n",
    "    if filename.startswith(\"frame_\") and filename.endswith(\".png\"):\n",
    "        os.remove(filename)"
   ]
  },
  {
   "cell_type": "code",
   "execution_count": 10,
   "metadata": {},
   "outputs": [],
   "source": [
    "# Save image in the folder of the notebook\n",
    "\n",
    "output_file = \"animation.gif\"\n",
    "imageio.mimsave(output_file, frames,\n",
    "    duration=0.5)# Adjust the duration between frames as needed"
   ]
  },
  {
   "cell_type": "code",
   "execution_count": null,
   "metadata": {},
   "outputs": [],
   "source": []
  }
 ],
 "metadata": {
  "kernelspec": {
   "display_name": "Python 3",
   "language": "python",
   "name": "python3"
  },
  "language_info": {
   "codemirror_mode": {
    "name": "ipython",
    "version": 3
   },
   "file_extension": ".py",
   "mimetype": "text/x-python",
   "name": "python",
   "nbconvert_exporter": "python",
   "pygments_lexer": "ipython3",
   "version": "3.8.10"
  }
 },
 "nbformat": 4,
 "nbformat_minor": 4
}
